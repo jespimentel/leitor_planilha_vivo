{
  "cells": [
    {
      "cell_type": "markdown",
      "metadata": {
        "id": "view-in-github",
        "colab_type": "text"
      },
      "source": [
        "<a href=\"https://colab.research.google.com/github/jespimentel/leitor_planilha_vivo/blob/master/leitor_de_planilha_vivo.ipynb\" target=\"_parent\"><img src=\"https://colab.research.google.com/assets/colab-badge.svg\" alt=\"Open In Colab\"/></a>"
      ]
    },
    {
      "cell_type": "markdown",
      "metadata": {
        "id": "zFGYk8y5_7AJ"
      },
      "source": [
        "# Leitor de Planilhas da Vivo\n",
        "https://github.com/jespimentel\n",
        "\n",
        "OBJETIVO\n",
        "\n",
        "1. A Vivo fornece em planilha Excel, mediante requisição judicial, os metadados das chamadas realizadas a partir de telefones celulares.\n",
        "\n",
        "2. Na planilha da operadora é possível identificar as ERBs utilizadas nas chamadas pelas colunas comuns de duas diferentes pastas de trabalho.\n",
        "\n",
        "3. Este script auxilia o investigador na tarefa de fazer esse relacionamento. Além disso, converte as coordenadas geográficas em formato decimal para plotagem."
      ]
    },
    {
      "cell_type": "code",
      "source": [
        "import pandas as pd\n",
        "import numpy as np\n",
        "import matplotlib.pyplot as plt\n",
        "import folium\n",
        "\n",
        "import warnings\n",
        "warnings.simplefilter(\"ignore\", UserWarning)"
      ],
      "metadata": {
        "id": "WmB2Oh3jHD1P"
      },
      "execution_count": null,
      "outputs": []
    },
    {
      "cell_type": "code",
      "execution_count": null,
      "metadata": {
        "id": "2VrsrAyQX2dE"
      },
      "outputs": [],
      "source": [
        "path_da_planilha = '/content/consulta_16996222XXX_id8610473_1320.xlsx'\n",
        "alvo = '16996222XXX'\n",
        "\n",
        "chamadas = pd.read_excel (path_da_planilha, sheet_name=0)\n",
        "erbs = pd.read_excel (path_da_planilha, header=4, sheet_name=2)"
      ]
    },
    {
      "cell_type": "code",
      "source": [
        "chamadas.columns = chamadas.iloc[4]\n",
        "chamadas = chamadas[5:]\n",
        "chamadas.reset_index(drop=True, inplace=True)\n",
        "chamadas.columns.name = None\n",
        "chamadas = chamadas [['Data', 'Hora', 'Chamador', 'Chamado', 'Local Origem', 'Local Destino']]\n",
        "chamadas"
      ],
      "metadata": {
        "id": "mRxlR7e_JIwN"
      },
      "execution_count": null,
      "outputs": []
    },
    {
      "cell_type": "code",
      "source": [
        "chamadas['Chamador'].value_counts().head(10)"
      ],
      "metadata": {
        "id": "x8FfP3aDqVgs"
      },
      "execution_count": null,
      "outputs": []
    },
    {
      "cell_type": "code",
      "source": [
        "chamadas['Chamado'].value_counts().head(10)"
      ],
      "metadata": {
        "id": "1ixW4KX2q3WM"
      },
      "execution_count": null,
      "outputs": []
    },
    {
      "cell_type": "code",
      "source": [
        "erbs.columns = erbs.iloc[0]\n",
        "erbs = erbs[1:]\n",
        "erbs = erbs.reset_index(drop=True)\n",
        "erbs = erbs.dropna(subset=['CGI'])\n",
        "erbs = erbs[erbs['CGI'].str.strip() != '']\n",
        "erbs.reset_index(drop=True, inplace=True)\n",
        "erbs.columns.name = None\n",
        "erbs = erbs [['CGI', 'UF', 'Cidade', 'Bairro', 'Endereço', 'Azi', 'Latitude', 'Longitude']]\n",
        "erbs = erbs.dropna(subset=['Latitude'])\n",
        "erbs = erbs[erbs['Latitude'].str.strip() != '']\n",
        "erbs"
      ],
      "metadata": {
        "id": "4sHEDvSNJMH-"
      },
      "execution_count": null,
      "outputs": []
    },
    {
      "cell_type": "code",
      "source": [
        "def converte_dms_dd(coordenada):\n",
        "  if coordenada[0] == '-':\n",
        "    new_coord = coordenada[0]\n",
        "  else:\n",
        "    new_coord = ''\n",
        "  coordenada = coordenada.replace(',', '.').split('-') # Ex. de resultado: ['', '22', '47', '35.5']\n",
        "  if coordenada[0] == '':\n",
        "    del (coordenada[0])\n",
        "  graus = int(coordenada[0])\n",
        "  decimais = float(coordenada[1])/60 + float(coordenada[2])/3600\n",
        "  new_coord = new_coord + str(graus + decimais)\n",
        "  return float(new_coord)\n",
        "\n",
        "# Substituição das coordenadas convertidas em DD no Dataframe\n",
        "erbs.Latitude = erbs.Latitude.map(lambda x: converte_dms_dd(x))\n",
        "erbs.Longitude = erbs.Longitude.map(lambda x: converte_dms_dd(x))\n",
        "erbs"
      ],
      "metadata": {
        "id": "22aCUdPsH1hr"
      },
      "execution_count": null,
      "outputs": []
    },
    {
      "cell_type": "code",
      "source": [
        "chamadas_filtered = chamadas[chamadas['Chamador'] == alvo]\n",
        "\n",
        "# Perform an inner join on 'Local de Origem' and 'CGI'\n",
        "df_origem = pd.merge(chamadas_filtered, erbs, left_on='Local Origem', right_on='CGI', how='inner')\n",
        "\n",
        "# Drop rows with missing values in both dataframes\n",
        "df_origem.dropna(subset=['Local Origem', 'CGI'], inplace=True)\n",
        "\n",
        "# Display the merged dataframe\n",
        "df_origem"
      ],
      "metadata": {
        "id": "DUEWB9yLrWJ5"
      },
      "execution_count": null,
      "outputs": []
    },
    {
      "cell_type": "code",
      "source": [
        "chamadas_filtered = chamadas[chamadas['Chamado'] == alvo]\n",
        "\n",
        "# Perform an inner join on 'Local de Origem' and 'CGI'\n",
        "df_destino = pd.merge(chamadas_filtered, erbs, left_on='Local Destino', right_on='CGI', how='inner')\n",
        "\n",
        "# Drop rows with missing values in both dataframes\n",
        "df_destino.dropna(subset=['Local Destino', 'CGI'], inplace=True)\n",
        "\n",
        "# Display the merged dataframe\n",
        "df_destino"
      ],
      "metadata": {
        "id": "fn1vSHoDsyIl"
      },
      "execution_count": null,
      "outputs": []
    },
    {
      "cell_type": "code",
      "source": [
        "# prompt: concatene df_origem e df_destino. Ordene pelas colunas de Data e Hora.\n",
        "\n",
        "# Concatenar df_origem e df_destino\n",
        "df_concat = pd.concat([df_origem, df_destino], ignore_index=True)\n",
        "\n",
        "# Remove whitespace from 'Azi' column and convert to numeric\n",
        "df_concat['Azi'] = pd.to_numeric(df_concat['Azi'].str.strip(), errors='coerce')\n",
        "\n",
        "# Convert to integer (NaN values will remain)\n",
        "df_concat['Azi'] = df_concat['Azi'].astype('Int64')\n",
        "\n",
        "# Exibir o DataFrame resultante\n",
        "display(df_concat)"
      ],
      "metadata": {
        "id": "0PpJKM-MTvqC"
      },
      "execution_count": null,
      "outputs": []
    },
    {
      "cell_type": "code",
      "source": [
        "# Salva o DataFrame em Excel\n",
        "df_concat.to_excel(f'erbs_origem_e_destino_{alvo}.xlsx', index=False)"
      ],
      "metadata": {
        "id": "N0yc59h1T9Mh"
      },
      "execution_count": null,
      "outputs": []
    },
    {
      "cell_type": "code",
      "source": [
        "import folium\n",
        "\n",
        "def plot_map(df, alvo):\n",
        "    \"\"\"\n",
        "    Plots a map using folium based on the coordinates in the dataframe.\n",
        "\n",
        "    Args:\n",
        "    df (DataFrame): DataFrame containing at least 'Latitude', 'Longitude', 'Data', 'Hora', 'Chamador', and 'Chamado' columns.\n",
        "    target (str): The name to save the map as an HTML file.\n",
        "\n",
        "    Returns:\n",
        "    folium.Map: A folium map object centered on the mean coordinates and with markers for each row in the dataframe.\n",
        "    \"\"\"\n",
        "    # Calculate the mean point of the coordinates\n",
        "    latitude_mean = df['Latitude'].mean()\n",
        "    longitude_mean = df['Longitude'].mean()\n",
        "\n",
        "    # Create a map centered at the mean point\n",
        "    map_ = folium.Map(location=[latitude_mean, longitude_mean], zoom_start=10)\n",
        "\n",
        "    # Iterate over the DataFrame rows and add markers to the map\n",
        "    for index, row in df.iterrows():\n",
        "        # Extract information from the current row\n",
        "        latitude = row['Latitude']\n",
        "        longitude = row['Longitude']\n",
        "        data = row['Data']\n",
        "        hour = row['Hora']\n",
        "        caller = row['Chamador']\n",
        "        call = row['Chamado']\n",
        "\n",
        "        # Create the popup with information\n",
        "        popup_text = f\"<b>Data:</b> {data}<br><b>Hora:</b> {hour}<br><b>Chamador:</b> {caller}<br><b>Chamado:</b> {call}\"\n",
        "\n",
        "        # Add a marker to the map\n",
        "        folium.Marker(\n",
        "            location=[latitude, longitude],\n",
        "            popup=folium.Popup(popup_text, max_width=300),\n",
        "            icon=folium.Icon(color='blue', icon='info-sign')\n",
        "        ).add_to(map_)\n",
        "\n",
        "    # Save the map to an HTML file\n",
        "    map_.save(f'mapa_{alvo}.html')\n",
        "\n",
        "    return map_"
      ],
      "metadata": {
        "id": "ak1FFe5P0fDl"
      },
      "execution_count": null,
      "outputs": []
    },
    {
      "cell_type": "code",
      "source": [
        "plot_map(df_concat, alvo)"
      ],
      "metadata": {
        "id": "YsGRJIKy0jKk"
      },
      "execution_count": null,
      "outputs": []
    },
    {
      "cell_type": "markdown",
      "source": [
        "# Análise simultânea"
      ],
      "metadata": {
        "id": "L9Slq1QkzXrh"
      }
    },
    {
      "cell_type": "code",
      "source": [
        "df_1 = pd.read_excel ('/content/erbs_origem_e_destino_16996222XXX.xlsx', sheet_name=0)\n",
        "df_2 = pd.read_excel ('/content/erbs_origem_e_destino_16999756XXX.xlsx', sheet_name=0)"
      ],
      "metadata": {
        "id": "-pj9EirXzclS"
      },
      "execution_count": null,
      "outputs": []
    },
    {
      "cell_type": "code",
      "source": [
        "# prompt: concatene df_1 e df_2.\n",
        "\n",
        "# Concatenate df_1 and df_2\n",
        "df_concat_total = pd.concat([df_1, df_2], ignore_index=True)\n",
        "\n",
        "# Salva o DataFrame em Excel\n",
        "df_concat_total.to_excel(f'erbs_origem_e_destino_todos.xlsx', index=False)\n",
        "\n",
        "# Display the concatenated DataFrame\n",
        "display(df_concat_total.head(5))"
      ],
      "metadata": {
        "id": "EXhbV6IozzJv"
      },
      "execution_count": null,
      "outputs": []
    },
    {
      "cell_type": "code",
      "source": [
        "df_concat_total['Chamador'].value_counts().head(10)"
      ],
      "metadata": {
        "id": "HIv3dY7y25yL"
      },
      "execution_count": null,
      "outputs": []
    },
    {
      "cell_type": "code",
      "source": [
        "df_concat_total['Chamado'].value_counts().head(10)"
      ],
      "metadata": {
        "id": "_UQmPpde3AGS"
      },
      "execution_count": null,
      "outputs": []
    },
    {
      "cell_type": "code",
      "source": [
        "plot_map(df_concat_total, alvo)"
      ],
      "metadata": {
        "id": "fCQ_EobK1n_6"
      },
      "execution_count": null,
      "outputs": []
    }
  ],
  "metadata": {
    "colab": {
      "provenance": [],
      "include_colab_link": true
    },
    "kernelspec": {
      "display_name": "Python 3.8.3 64-bit ('vivo': conda)",
      "language": "python",
      "name": "python38364bitvivocondadedcac34f5dc45f783be062435388315"
    },
    "language_info": {
      "codemirror_mode": {
        "name": "ipython",
        "version": 3
      },
      "file_extension": ".py",
      "mimetype": "text/x-python",
      "name": "python",
      "nbconvert_exporter": "python",
      "pygments_lexer": "ipython3",
      "version": "3.8.3"
    }
  },
  "nbformat": 4,
  "nbformat_minor": 0
}